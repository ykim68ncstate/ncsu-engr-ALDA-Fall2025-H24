{
 "cells": [
  {
   "cell_type": "markdown",
   "metadata": {},
   "source": [
    "# KNN+CV"
   ]
  },
  {
   "cell_type": "code",
   "execution_count": 4,
   "metadata": {},
   "outputs": [
    {
     "name": "stdout",
     "output_type": "stream",
     "text": [
      "   ID    x1   x2      y\n",
      "0   1 -2.00  4.0   star\n",
      "1   2 -6.48  5.0  spade\n",
      "2   3  0.93 -2.0   star\n",
      "3   4  0.20  2.0  spade\n",
      "4   5  1.69  2.0   star\n",
      "5   6 -5.85  4.0   star\n",
      "6   7  3.00  0.0  spade\n",
      "7   8 -0.36  8.0  spade\n",
      "8   9 -1.68  3.0  spade\n",
      "9  10  0.00  0.0   star\n"
     ]
    }
   ],
   "source": [
    "from sklearn.neighbors import NearestNeighbors\n",
    "import numpy as np\n",
    "import pandas as pd\n",
    "df = pd.read_csv(\"HW3_data/cv+knn.csv\")\n",
    "\n",
    "print(df)"
   ]
  },
  {
   "cell_type": "code",
   "execution_count": 5,
   "metadata": {},
   "outputs": [],
   "source": [
    "X = df[['x1', 'x2']].values\n",
    "y = df['y'].values"
   ]
  },
  {
   "cell_type": "markdown",
   "metadata": {},
   "source": [
    "# (a) What is the leave-one-out cross-validation error of 1NN on this dataset?"
   ]
  },
  {
   "cell_type": "code",
   "execution_count": 17,
   "metadata": {},
   "outputs": [
    {
     "name": "stdout",
     "output_type": "stream",
     "text": [
      "LOOCV 1NN Error: 0.900\n"
     ]
    }
   ],
   "source": [
    "from sklearn.model_selection import LeaveOneOut\n",
    "from sklearn.neighbors import KNeighborsClassifier\n",
    "\n",
    "loo = LeaveOneOut()\n",
    "errors = 0\n",
    "\n",
    "for train_index, test_index in loo.split(X):\n",
    "    X_train, X_test = X[train_index], X[test_index]\n",
    "    y_train, y_test = y[train_index], y[test_index]\n",
    "\n",
    "    knn = KNeighborsClassifier(n_neighbors=1)\n",
    "    knn.fit(X_train, y_train)\n",
    "    y_prediction = knn.predict(X_test)\n",
    "\n",
    "    if y_prediction[0] != y_test[0]:\n",
    "        errors += 1\n",
    "\n",
    "loo_error_rate = errors / len(X)\n",
    "print(f\"LOOCV 1NN Error: {loo_error_rate:.3f}\")\n",
    "#https://scikit-learn.org/stable/modules/generated/sklearn.neighbors.KNeighborsClassifier.html"
   ]
  },
  {
   "cell_type": "markdown",
   "metadata": {},
   "source": [
    "# (b) What are the 3 nearest neighbors for data points 2 and 8 respectively."
   ]
  },
  {
   "cell_type": "code",
   "execution_count": 20,
   "metadata": {},
   "outputs": [
    {
     "name": "stdout",
     "output_type": "stream",
     "text": [
      "3 nearest neighbors for ID=2: [(np.int64(6), np.float64(1.1819052415485773), 'star'), (np.int64(1), np.float64(4.590250537824706), 'star'), (np.int64(9), np.float64(5.2), 'spade')]\n",
      "3 nearest neighbors for ID=8: [(np.int64(1), np.float64(4.323147001895725), 'star'), (np.int64(9), np.float64(5.17130544446951), 'spade'), (np.int64(4), np.float64(6.026076667285275), 'spade')]\n"
     ]
    }
   ],
   "source": [
    "ids = df['ID'].values\n",
    "\n",
    "nbrs = NearestNeighbors(n_neighbors=4, algorithm='ball_tree', metric='euclidean').fit(X)\n",
    "distance, indices = nbrs.kneighbors(X)\n",
    "\n",
    "#https://scikit-learn.org/stable/modules/neighbors.html\n",
    "\n",
    "def three_nbrs_for_id(target_id):\n",
    "    i = np.where(ids == target_id)[0][0]\n",
    "    neighbors_indices = indices[i][1:4]\n",
    "    return list(zip(ids[neighbors_indices], distance[i][1:4], y[neighbors_indices]))\n",
    "\n",
    "nbrs_2 = three_nbrs_for_id(2)\n",
    "nbrs_8 = three_nbrs_for_id(8)\n",
    "\n",
    "print(\"3 nearest neighbors for ID=2:\", nbrs_2)\n",
    "print(\"3 nearest neighbors for ID=8:\", nbrs_8)"
   ]
  },
  {
   "cell_type": "markdown",
   "metadata": {},
   "source": [
    "# (c) What is the 3-folded cross-validation error of 3NN on this dataset?\n",
    "For the ith fold, the testing dataset is composed of all the data points whose (ID mod 3 = i-1)."
   ]
  },
  {
   "cell_type": "code",
   "execution_count": 23,
   "metadata": {},
   "outputs": [
    {
     "name": "stdout",
     "output_type": "stream",
     "text": [
      "3-folded cross validation Error: 0.700\n"
     ]
    }
   ],
   "source": [
    "errors = 0\n",
    "total = 0\n",
    "\n",
    "for i in [1, 2, 3]:\n",
    "    test_mask = (ids % 3) == (i - 1)\n",
    "    train_mask = ~test_mask\n",
    "\n",
    "    X_train, X_test = X[train_mask], X[test_mask]\n",
    "    y_train, y_test = y[train_mask], y[test_mask]\n",
    "\n",
    "    knn3 = KNeighborsClassifier(n_neighbors = 3, algorithm = 'ball_tree', metric = 'euclidean')\n",
    "    knn3.fit(X_train, y_train)\n",
    "\n",
    "    y_pred = knn3.predict(X_test)\n",
    "\n",
    "    fold_error = np.sum(y_pred != y_test)\n",
    "    errors += fold_error\n",
    "    total += len(y_test)\n",
    "\n",
    "CrossValidation3fold_error_rate = errors / total\n",
    "print(f\"3-folded cross validation Error: {CrossValidation3fold_error_rate:.3f}\")"
   ]
  },
  {
   "cell_type": "markdown",
   "metadata": {},
   "source": [
    "# (d) Based on the results of (a) and (c), can we determine which is a better classifier, 1NN or 3NN? Why?"
   ]
  },
  {
   "cell_type": "markdown",
   "metadata": {},
   "source": [
    "In this dataset, the leave-one-out cross validation error of 1NN is 0.90, whereas the 3-fold cross validation error of 3NN is 0.70, so 3NN achieve the lower error. Because 3NN averages over neighbors via majority vote, it is less sensitive to noise/outliers and typically reduces variance, which can yield better generalization on small samples. However, since (a) and (c) use different cross validation protocols, the comparison is not fully fair, for a fair assessment we should evaluate both 1NN and 3NN under the same cross validation scheme with identical folds."
   ]
  }
 ],
 "metadata": {
  "kernelspec": {
   "display_name": "ncphd",
   "language": "python",
   "name": "python3"
  },
  "language_info": {
   "codemirror_mode": {
    "name": "ipython",
    "version": 3
   },
   "file_extension": ".py",
   "mimetype": "text/x-python",
   "name": "python",
   "nbconvert_exporter": "python",
   "pygments_lexer": "ipython3",
   "version": "3.12.7"
  }
 },
 "nbformat": 4,
 "nbformat_minor": 2
}
