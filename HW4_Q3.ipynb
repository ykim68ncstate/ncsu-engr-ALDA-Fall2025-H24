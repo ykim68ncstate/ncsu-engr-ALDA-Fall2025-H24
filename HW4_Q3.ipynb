{
 "cells": [
  {
   "cell_type": "code",
   "execution_count": 139,
   "metadata": {},
   "outputs": [],
   "source": [
    "import numpy as np\n",
    "import pandas as pd\n",
    "from sklearn.model_selection import LeaveOneOut"
   ]
  },
  {
   "cell_type": "code",
   "execution_count": 140,
   "metadata": {},
   "outputs": [],
   "source": [
    "def build_model1(x1, x2, x3, verbose=False):\n",
    "    if verbose:\n",
    "        print(\"\\n[Model 1]\")\n",
    "        print(\"y = alpha1*x1 + alpha2*x2 + alpha3*x3 + alpha0\")\n",
    "    return np.column_stack([x1, x2, x3, np.ones_like(x1)])\n",
    "\n",
    "def build_model2(x1, x2, x3, verbose=False):\n",
    "    if verbose:\n",
    "        print(\"\\n[Model 2]\")\n",
    "        print(\"y = beta1*(x1^2) + beta2*(x2^2) + beta3*(x3^2) + beta0\")\n",
    "    return np.column_stack([x1**2, x2**2, x3**2, np.ones_like(x1)])\n",
    "\n",
    "def build_model3(x1, x2, x3, verbose=False):\n",
    "    if verbose:\n",
    "        print(\"\\n[Model 3]\")\n",
    "        print(\"y = gamma1*(x1^3) + gamma2*(x2^3) + gamma3*(x3^3) + gamma0\")\n",
    "    return np.column_stack([x1**3, x2**3, x3**3, np.ones_like(x1)])"
   ]
  },
  {
   "cell_type": "code",
   "execution_count": 141,
   "metadata": {},
   "outputs": [],
   "source": [
    "def OrdinaryLeastSquares_fit(X, y, ridge_eps=0.0):\n",
    "    XtX = X.T @ X\n",
    "    if ridge_eps > 0:\n",
    "        XtX = XtX + ridge_eps * np.eye(XtX.shape[0])\n",
    "    Xty = X.T @ y\n",
    "    w = np.linalg.solve(XtX, Xty)\n",
    "    return w\n",
    "\n",
    "def rmse(y_true, y_pred):\n",
    "    return float(np.sqrt(np.mean((y_true - y_pred)**2)))"
   ]
  },
  {
   "cell_type": "markdown",
   "metadata": {},
   "source": [
    "# i. Load the data"
   ]
  },
  {
   "cell_type": "code",
   "execution_count": 142,
   "metadata": {},
   "outputs": [],
   "source": [
    "def load_data(csv_path, x_cols, y_col):\n",
    "    df = pd.read_csv(csv_path)\n",
    "    df.columns = df.columns.str.strip()\n",
    "    missing = [c for c in [*x_cols, y_col] if c not in df.columns]\n",
    "    if missing:\n",
    "        raise ValueError(f\"Columns not found: {missing}\")\n",
    "    df = df[[*x_cols, y_col]].dropna().copy()\n",
    "    x1, x2, x3 = df[x_cols[0]].to_numpy(), df[x_cols[1]].to_numpy(), df[x_cols[2]].to_numpy()\n",
    "    y = df[y_col].to_numpy()\n",
    "    return x1, x2, x3, y\n"
   ]
  },
  {
   "cell_type": "markdown",
   "metadata": {},
   "source": [
    "# i. Fit the dataset"
   ]
  },
  {
   "cell_type": "code",
   "execution_count": 143,
   "metadata": {},
   "outputs": [],
   "source": [
    "def fit_full_dataset(x1, x2, x3, y, x_cols):\n",
    "    models = [\n",
    "        (\"Model 1\", build_model1, \"alpha\", \"y = alpha1*x1 + alpha2*x2 + alpha3*x3 + alpha0\"),\n",
    "        (\"Model 2\", build_model2, \"beta\", \"y = beta1*(x1^2) + beta2*(x2^2) + beta3*(x3^2) + beta0\"),\n",
    "        (\"Model 3\", build_model3, \"gamma\", \"y = gamma*(x1^3) + gamma2*(x2^3) + gamma3*(x3^3) + gamma0\")\n",
    "    ]\n",
    "    results = []\n",
    "    for name, builder, sym, form in models:\n",
    "        X = builder(x1, x2, x3)\n",
    "        w = OrdinaryLeastSquares_fit(X, y)\n",
    "        y_pred = X @ w\n",
    "        train_rmse = rmse(y, y_pred)\n",
    "\n",
    "        print(f\"\\n{name} {form}\")\n",
    "        for label, val in zip(\n",
    "            [f\"{sym}1 ({x_cols[0]})\", f\"{sym}2 ({x_cols[1]})\", f\"{sym}3 ({x_cols[2]})\", f\"{sym}0 (bias)\"],\n",
    "            w.flatten()\n",
    "        ):\n",
    "            print(f\" {label}: {float(val):.6f}\")\n",
    "        print(f\"Training RMSE: {train_rmse:.6f}\")\n",
    "        results.append((name, builder, X, w))\n",
    "    return results"
   ]
  },
  {
   "cell_type": "markdown",
   "metadata": {},
   "source": [
    "# ii. LOOCV"
   ]
  },
  {
   "cell_type": "code",
   "execution_count": 144,
   "metadata": {},
   "outputs": [],
   "source": [
    "def loocv_evaluate(x1, x2, x3, y, results):\n",
    "    rmse_scores = []\n",
    "    for name, builder, _, _ in results:\n",
    "        X = builder(x1, x2, x3)\n",
    "        loo = LeaveOneOut()\n",
    "        preds = np.zeros_like(y, dtype=float)\n",
    "        for train_idx, test_idx in loo.split(X):\n",
    "            X_train, y_train = X[train_idx], y[train_idx]\n",
    "            X_test = X[test_idx]\n",
    "            w = OrdinaryLeastSquares_fit(X_train, y_train)\n",
    "            preds[test_idx] = (X_test @ w).ravel()\n",
    "        score = rmse(y, preds)\n",
    "        rmse_scores.append((name, score))\n",
    "        print(f\"LOOCV RMSE ({name}): {score:.6f}\")\n",
    "    best = min(rmse_scores, key=lambda t: t[1])\n",
    "    print(f\"\\nBest Model based on LOOCV RMSE: {best[0]}\")\n",
    "    return rmse_scores\n",
    "\n"
   ]
  },
  {
   "cell_type": "markdown",
   "metadata": {},
   "source": [
    "# Run and Print Reports"
   ]
  },
  {
   "cell_type": "code",
   "execution_count": 145,
   "metadata": {},
   "outputs": [
    {
     "name": "stdout",
     "output_type": "stream",
     "text": [
      "Dataset Info\n",
      "X columns: ['X1 house age', 'X2 distance to the nearest MRT station', 'X3 number of convenience stores']\n",
      "y column: Y house price of unit area\n",
      "Samples: 414\n",
      "\n",
      "Model 1 y = alpha1*x1 + alpha2*x2 + alpha3*x3 + alpha0\n",
      " alpha1 (X1 house age): -0.233104\n",
      " alpha2 (X2 distance to the nearest MRT station): -0.005512\n",
      " alpha3 (X3 number of convenience stores): 1.298058\n",
      " alpha0 (bias): 42.748076\n",
      "Training RMSE: 10.087057\n",
      "\n",
      "Model 2 y = beta1*(x1^2) + beta2*(x2^2) + beta3*(x3^2) + beta0\n",
      " beta1 (X1 house age): -0.003425\n",
      " beta2 (X2 distance to the nearest MRT station): -0.000001\n",
      " beta3 (X3 number of convenience stores): 0.179033\n",
      " beta0 (bias): 37.498945\n",
      "Training RMSE: 11.176234\n",
      "\n",
      "Model 3 y = gamma*(x1^3) + gamma2*(x2^3) + gamma3*(x3^3) + gamma0\n",
      " gamma1 (X1 house age): -0.000029\n",
      " gamma2 (X2 distance to the nearest MRT station): -0.000000\n",
      " gamma3 (X3 number of convenience stores): 0.017768\n",
      " gamma0 (bias): 36.714452\n",
      "Training RMSE: 12.026067\n",
      "LOOCV RMSE (Model 1): 10.197973\n",
      "LOOCV RMSE (Model 2): 11.305209\n",
      "LOOCV RMSE (Model 3): 12.190789\n",
      "\n",
      "Best Model based on LOOCV RMSE: Model 1\n"
     ]
    }
   ],
   "source": [
    "def main():\n",
    "    csv_path = \"HW4_data/real_estate.csv\"\n",
    "    x_cols = [\"X1 house age\", \"X2 distance to the nearest MRT station\", \"X3 number of convenience stores\"]\n",
    "    y_col = \"Y house price of unit area\"\n",
    "\n",
    "    x1, x2, x3, y = load_data(csv_path, x_cols, y_col)\n",
    "    print(\"Dataset Info\")\n",
    "    print(f\"X columns: {x_cols}\")\n",
    "    print(f\"y column: {y_col}\")\n",
    "    print(f\"Samples: {len(y)}\")\n",
    "\n",
    "    results = fit_full_dataset(x1, x2, x3, y, x_cols)\n",
    "\n",
    "    loocv_evaluate(x1, x2, x3, y, results)\n",
    "\n",
    "if __name__ == \"__main__\":\n",
    "    main()"
   ]
  }
 ],
 "metadata": {
  "kernelspec": {
   "display_name": "ncphd",
   "language": "python",
   "name": "python3"
  },
  "language_info": {
   "codemirror_mode": {
    "name": "ipython",
    "version": 3
   },
   "file_extension": ".py",
   "mimetype": "text/x-python",
   "name": "python",
   "nbconvert_exporter": "python",
   "pygments_lexer": "ipython3",
   "version": "3.12.7"
  }
 },
 "nbformat": 4,
 "nbformat_minor": 2
}
