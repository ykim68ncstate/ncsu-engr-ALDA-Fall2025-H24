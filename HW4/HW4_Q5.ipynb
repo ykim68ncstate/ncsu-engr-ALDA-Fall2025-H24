{
 "cells": [
  {
   "cell_type": "markdown",
   "metadata": {},
   "source": [
    "# (a) Load data. Report the size of the positive (class 1) and negative (class 0) samples in dataset."
   ]
  },
  {
   "cell_type": "code",
   "execution_count": 47,
   "metadata": {},
   "outputs": [
    {
     "data": {
      "text/html": [
       "<div>\n",
       "<style scoped>\n",
       "    .dataframe tbody tr th:only-of-type {\n",
       "        vertical-align: middle;\n",
       "    }\n",
       "\n",
       "    .dataframe tbody tr th {\n",
       "        vertical-align: top;\n",
       "    }\n",
       "\n",
       "    .dataframe thead th {\n",
       "        text-align: right;\n",
       "    }\n",
       "</style>\n",
       "<table border=\"1\" class=\"dataframe\">\n",
       "  <thead>\n",
       "    <tr style=\"text-align: right;\">\n",
       "      <th></th>\n",
       "      <th>Attr1</th>\n",
       "      <th>Attr2</th>\n",
       "      <th>Attr3</th>\n",
       "      <th>Attr4</th>\n",
       "      <th>Attr5</th>\n",
       "      <th>Attr6</th>\n",
       "      <th>Attr7</th>\n",
       "      <th>Attr8</th>\n",
       "      <th>Attr9</th>\n",
       "      <th>Attr10</th>\n",
       "      <th>...</th>\n",
       "      <th>Attr52</th>\n",
       "      <th>Attr53</th>\n",
       "      <th>Attr54</th>\n",
       "      <th>Attr55</th>\n",
       "      <th>Attr56</th>\n",
       "      <th>Attr57</th>\n",
       "      <th>Attr58</th>\n",
       "      <th>Attr59</th>\n",
       "      <th>Attr60</th>\n",
       "      <th>Class</th>\n",
       "    </tr>\n",
       "  </thead>\n",
       "  <tbody>\n",
       "    <tr>\n",
       "      <th>0</th>\n",
       "      <td>0.021</td>\n",
       "      <td>0.028</td>\n",
       "      <td>0.012</td>\n",
       "      <td>0.044</td>\n",
       "      <td>0.043</td>\n",
       "      <td>0.077</td>\n",
       "      <td>0.584</td>\n",
       "      <td>0.143</td>\n",
       "      <td>0.189</td>\n",
       "      <td>0.185</td>\n",
       "      <td>...</td>\n",
       "      <td>0.010</td>\n",
       "      <td>0.001</td>\n",
       "      <td>0.005</td>\n",
       "      <td>0.004</td>\n",
       "      <td>0.003</td>\n",
       "      <td>0.008</td>\n",
       "      <td>0.005</td>\n",
       "      <td>0.002</td>\n",
       "      <td>0.001</td>\n",
       "      <td>0</td>\n",
       "    </tr>\n",
       "    <tr>\n",
       "      <th>1</th>\n",
       "      <td>0.053</td>\n",
       "      <td>0.056</td>\n",
       "      <td>0.122</td>\n",
       "      <td>0.121</td>\n",
       "      <td>0.025</td>\n",
       "      <td>0.102</td>\n",
       "      <td>0.216</td>\n",
       "      <td>0.044</td>\n",
       "      <td>0.229</td>\n",
       "      <td>0.163</td>\n",
       "      <td>...</td>\n",
       "      <td>0.034</td>\n",
       "      <td>0.015</td>\n",
       "      <td>0.034</td>\n",
       "      <td>0.038</td>\n",
       "      <td>0.017</td>\n",
       "      <td>0.013</td>\n",
       "      <td>0.010</td>\n",
       "      <td>0.036</td>\n",
       "      <td>0.021</td>\n",
       "      <td>0</td>\n",
       "    </tr>\n",
       "    <tr>\n",
       "      <th>2</th>\n",
       "      <td>0.049</td>\n",
       "      <td>0.028</td>\n",
       "      <td>0.059</td>\n",
       "      <td>0.127</td>\n",
       "      <td>0.177</td>\n",
       "      <td>0.191</td>\n",
       "      <td>0.888</td>\n",
       "      <td>0.077</td>\n",
       "      <td>0.125</td>\n",
       "      <td>0.203</td>\n",
       "      <td>...</td>\n",
       "      <td>0.008</td>\n",
       "      <td>0.013</td>\n",
       "      <td>0.016</td>\n",
       "      <td>0.006</td>\n",
       "      <td>0.012</td>\n",
       "      <td>0.019</td>\n",
       "      <td>0.014</td>\n",
       "      <td>0.033</td>\n",
       "      <td>0.044</td>\n",
       "      <td>0</td>\n",
       "    </tr>\n",
       "    <tr>\n",
       "      <th>3</th>\n",
       "      <td>0.019</td>\n",
       "      <td>0.061</td>\n",
       "      <td>0.038</td>\n",
       "      <td>0.077</td>\n",
       "      <td>0.139</td>\n",
       "      <td>0.081</td>\n",
       "      <td>0.228</td>\n",
       "      <td>0.022</td>\n",
       "      <td>0.104</td>\n",
       "      <td>0.119</td>\n",
       "      <td>...</td>\n",
       "      <td>0.033</td>\n",
       "      <td>0.013</td>\n",
       "      <td>0.012</td>\n",
       "      <td>0.011</td>\n",
       "      <td>0.002</td>\n",
       "      <td>0.004</td>\n",
       "      <td>0.004</td>\n",
       "      <td>0.011</td>\n",
       "      <td>0.008</td>\n",
       "      <td>1</td>\n",
       "    </tr>\n",
       "    <tr>\n",
       "      <th>4</th>\n",
       "      <td>0.035</td>\n",
       "      <td>0.051</td>\n",
       "      <td>0.008</td>\n",
       "      <td>0.024</td>\n",
       "      <td>0.043</td>\n",
       "      <td>0.074</td>\n",
       "      <td>0.376</td>\n",
       "      <td>0.113</td>\n",
       "      <td>0.123</td>\n",
       "      <td>0.151</td>\n",
       "      <td>...</td>\n",
       "      <td>0.004</td>\n",
       "      <td>0.012</td>\n",
       "      <td>0.011</td>\n",
       "      <td>0.011</td>\n",
       "      <td>0.010</td>\n",
       "      <td>0.005</td>\n",
       "      <td>0.002</td>\n",
       "      <td>0.008</td>\n",
       "      <td>0.003</td>\n",
       "      <td>0</td>\n",
       "    </tr>\n",
       "  </tbody>\n",
       "</table>\n",
       "<p>5 rows × 61 columns</p>\n",
       "</div>"
      ],
      "text/plain": [
       "   Attr1  Attr2  Attr3  Attr4  Attr5  Attr6  Attr7  Attr8  Attr9  Attr10  ...  \\\n",
       "0  0.021  0.028  0.012  0.044  0.043  0.077  0.584  0.143  0.189   0.185  ...   \n",
       "1  0.053  0.056  0.122  0.121  0.025  0.102  0.216  0.044  0.229   0.163  ...   \n",
       "2  0.049  0.028  0.059  0.127  0.177  0.191  0.888  0.077  0.125   0.203  ...   \n",
       "3  0.019  0.061  0.038  0.077  0.139  0.081  0.228  0.022  0.104   0.119  ...   \n",
       "4  0.035  0.051  0.008  0.024  0.043  0.074  0.376  0.113  0.123   0.151  ...   \n",
       "\n",
       "   Attr52  Attr53  Attr54  Attr55  Attr56  Attr57  Attr58  Attr59  Attr60  \\\n",
       "0   0.010   0.001   0.005   0.004   0.003   0.008   0.005   0.002   0.001   \n",
       "1   0.034   0.015   0.034   0.038   0.017   0.013   0.010   0.036   0.021   \n",
       "2   0.008   0.013   0.016   0.006   0.012   0.019   0.014   0.033   0.044   \n",
       "3   0.033   0.013   0.012   0.011   0.002   0.004   0.004   0.011   0.008   \n",
       "4   0.004   0.012   0.011   0.011   0.010   0.005   0.002   0.008   0.003   \n",
       "\n",
       "   Class  \n",
       "0      0  \n",
       "1      0  \n",
       "2      0  \n",
       "3      1  \n",
       "4      0  \n",
       "\n",
       "[5 rows x 61 columns]"
      ]
     },
     "metadata": {},
     "output_type": "display_data"
    },
    {
     "name": "stdout",
     "output_type": "stream",
     "text": [
      "(156, 61)\n",
      "Class\n",
      "0    83\n",
      "1    73\n",
      "Name: count, dtype: int64\n"
     ]
    }
   ],
   "source": [
    "import pandas as pd\n",
    "\n",
    "df = pd.read_csv(\"HW4_data/SVM_2025/svm_2025.csv\")\n",
    "\n",
    "display(df.head())\n",
    "print(df.shape)\n",
    "\n",
    "print(df[\"Class\"].value_counts())"
   ]
  },
  {
   "cell_type": "markdown",
   "metadata": {},
   "source": [
    "# (b) Use stratified random sampling to divide the dataset into training data (75%) and testing data (25%) [use random state= 42]. \n",
    "Report the number of positive and negative samples in both training and testing data."
   ]
  },
  {
   "cell_type": "code",
   "execution_count": 48,
   "metadata": {},
   "outputs": [
    {
     "name": "stdout",
     "output_type": "stream",
     "text": [
      "(b) Train/Test Class distribution: 1 positive sample, 0 negative sample\n",
      " Train: {0: 62, 1: 55}\n",
      " Test : {0: 21, 1: 18}\n"
     ]
    }
   ],
   "source": [
    "from sklearn.model_selection import train_test_split\n",
    "\n",
    "label_col = 'Class'\n",
    "\n",
    "# Split X, y\n",
    "X = df.drop(columns=[label_col])\n",
    "y = df[label_col].astype(int)\n",
    "\n",
    "# Stratified random sampling\n",
    "X_traing, X_test, y_train, y_test = train_test_split(\n",
    "    X, y, test_size=0.25, stratify=y, random_state=42\n",
    ")\n",
    "\n",
    "print(\"(b) Train/Test Class distribution: 1 positive sample, 0 negative sample\")\n",
    "print(\" Train:\", y_train.value_counts().sort_index().to_dict())\n",
    "print(\" Test :\", y_test.value_counts().sort_index().to_dict())"
   ]
  },
  {
   "cell_type": "markdown",
   "metadata": {},
   "source": [
    "# (c) For each value of C, train a SVM classifier with the training data and get the number of support vectors (SVs).\n",
    "Give a brief analysis on the plot by explaining: 1) as C increases, how the number of SVs changes, and 2) why."
   ]
  },
  {
   "cell_type": "code",
   "execution_count": 49,
   "metadata": {},
   "outputs": [],
   "source": [
    "import numpy as np\n",
    "import matplotlib.pyplot as plt\n",
    "from sklearn.svm import SVC\n",
    "\n",
    "# load train and test data\n",
    "train_path = \"HW4_data/SVM_2025/train_data_2025.csv\"\n",
    "test_path = \"HW4_data/SVM_2025/test_data_2025.csv\"\n",
    "\n",
    "train_df = pd.read_csv(train_path)\n",
    "test_df  = pd.read_csv(test_path)\n",
    "\n",
    "\n",
    "def detect_label_column(df):\n",
    "    candidates = [\"label\", \"Label\", \"LABEL\", \"y\", \"Y\", \"target\", \"Target\", \"class\", \"Class\", \"CLASS\"]\n",
    "    cols_lower = {c.lower(): c for c in df.columns}\n",
    "    for c in candidates:\n",
    "        if c.lower() in cols_lower:\n",
    "            return cols_lower[c.lower()]\n",
    "    return df.columns[-1]\n",
    "\n",
    "label_col = detect_label_column(train_df)\n"
   ]
  },
  {
   "cell_type": "code",
   "execution_count": 50,
   "metadata": {},
   "outputs": [],
   "source": [
    "def to_binary(y):\n",
    "    uniq = sorted(pd.unique(y))\n",
    "    if set(uniq) in ({0,1}, {0.0,1.0}):\n",
    "        return y.astype(int)\n",
    "    if len(uniq) == 2:\n",
    "        mapping = {uniq[0]: 0, uniq[1]: 1}\n",
    "        return y.map(mapping).astype(int)\n",
    "    yn = pd.to_numeric(y, errors=\"coerce\")\n",
    "    if yn.isna().any():\n",
    "        raise ValueError(\"Cannot convert labels to {0,1}.\")\n",
    "    return (yn >= 0.5).astype(int)\n",
    "\n",
    "X_train = train_df.drop(columns=[label_col])\n",
    "y_train = to_binary(train_df[label_col])\n",
    "X_test = test_df.drop(columns=[label_col])\n",
    "y_test = to_binary(test_df[label_col])"
   ]
  },
  {
   "cell_type": "code",
   "execution_count": 51,
   "metadata": {},
   "outputs": [],
   "source": [
    "# Train a linear SVM for each value of C\n",
    "C_values = [0.1, 0.2, 0.3, 0.5, 1, 2, 3, 5, 10]\n",
    "sv_counts=[]\n",
    "\n",
    "for C in C_values:\n",
    "    clf = SVC(kernel=\"linear\", C=C)\n",
    "    clf.fit(X_train, y_train)\n",
    "    sv_counts.append(int(clf.support_.shape[0]))"
   ]
  },
  {
   "cell_type": "code",
   "execution_count": 52,
   "metadata": {},
   "outputs": [
    {
     "data": {
      "text/html": [
       "<div>\n",
       "<style scoped>\n",
       "    .dataframe tbody tr th:only-of-type {\n",
       "        vertical-align: middle;\n",
       "    }\n",
       "\n",
       "    .dataframe tbody tr th {\n",
       "        vertical-align: top;\n",
       "    }\n",
       "\n",
       "    .dataframe thead th {\n",
       "        text-align: right;\n",
       "    }\n",
       "</style>\n",
       "<table border=\"1\" class=\"dataframe\">\n",
       "  <thead>\n",
       "    <tr style=\"text-align: right;\">\n",
       "      <th></th>\n",
       "      <th>C</th>\n",
       "      <th>num_support_vectors</th>\n",
       "    </tr>\n",
       "  </thead>\n",
       "  <tbody>\n",
       "    <tr>\n",
       "      <th>0</th>\n",
       "      <td>0.1</td>\n",
       "      <td>110</td>\n",
       "    </tr>\n",
       "    <tr>\n",
       "      <th>1</th>\n",
       "      <td>0.2</td>\n",
       "      <td>96</td>\n",
       "    </tr>\n",
       "    <tr>\n",
       "      <th>2</th>\n",
       "      <td>0.3</td>\n",
       "      <td>86</td>\n",
       "    </tr>\n",
       "    <tr>\n",
       "      <th>3</th>\n",
       "      <td>0.5</td>\n",
       "      <td>79</td>\n",
       "    </tr>\n",
       "    <tr>\n",
       "      <th>4</th>\n",
       "      <td>1.0</td>\n",
       "      <td>68</td>\n",
       "    </tr>\n",
       "    <tr>\n",
       "      <th>5</th>\n",
       "      <td>2.0</td>\n",
       "      <td>63</td>\n",
       "    </tr>\n",
       "    <tr>\n",
       "      <th>6</th>\n",
       "      <td>3.0</td>\n",
       "      <td>61</td>\n",
       "    </tr>\n",
       "    <tr>\n",
       "      <th>7</th>\n",
       "      <td>5.0</td>\n",
       "      <td>59</td>\n",
       "    </tr>\n",
       "    <tr>\n",
       "      <th>8</th>\n",
       "      <td>10.0</td>\n",
       "      <td>58</td>\n",
       "    </tr>\n",
       "  </tbody>\n",
       "</table>\n",
       "</div>"
      ],
      "text/plain": [
       "      C  num_support_vectors\n",
       "0   0.1                  110\n",
       "1   0.2                   96\n",
       "2   0.3                   86\n",
       "3   0.5                   79\n",
       "4   1.0                   68\n",
       "5   2.0                   63\n",
       "6   3.0                   61\n",
       "7   5.0                   59\n",
       "8  10.0                   58"
      ]
     },
     "metadata": {},
     "output_type": "display_data"
    }
   ],
   "source": [
    "sv_table = pd.DataFrame({\"C\": C_values, \"num_support_vectors\": sv_counts})\n",
    "display(sv_table)"
   ]
  },
  {
   "cell_type": "code",
   "execution_count": 53,
   "metadata": {},
   "outputs": [
    {
     "data": {
      "image/png": "[encoded data removed]",
      "text/plain": [
       "<Figure size 640x480 with 1 Axes>"
      ]
     },
     "metadata": {},
     "output_type": "display_data"
    },
    {
     "name": "stdout",
     "output_type": "stream",
     "text": [
      "save graph file: svm_support_vectors_plot.png\n"
     ]
    }
   ],
   "source": [
    "plt.figure()\n",
    "plt.plot(C_values, sv_counts, marker='o')\n",
    "plt.xlabel(\"C\")\n",
    "plt.ylabel(\"Number of Support Vectors\")\n",
    "plt.title(\"Linear SVM: C vs Number of Support Vectors\")\n",
    "plt.grid(True, linestyle='--', alpha=0.5)\n",
    "plt.savefig(\"svm_support_vectors_plot.png\", bbox_inches=\"tight\", dpi=160)\n",
    "plt.show()\n",
    "\n",
    "print(\"save graph file: svm_support_vectors_plot.png\")"
   ]
  },
  {
   "cell_type": "markdown",
   "metadata": {},
   "source": [
    "As the regularization parameter C increases, the number of support vectors decreases.\n",
    "This happens because a larger C places a stronger penalty on misclassified points, forcing the SVM to create a decision boundary that fits the training data more strictly. Consequently, fewer data point lie withing or violate the margin, resulting in a smaller set of support vectors.\n",
    "In constrst, when C is small, the model allows a wider margin with more tolerance for misclassification, so more dta points become support vectors."
   ]
  },
  {
   "cell_type": "markdown",
   "metadata": {},
   "source": [
    "# (d) Using “train data 2025.csv” as training and “test data 2025.csv” as testing data, compare the performance of four different kernel functions:\n",
    "linear, polynomial, radial basic function (Gaussian kernel), and Sigmoid."
   ]
  },
  {
   "cell_type": "code",
   "execution_count": 54,
   "metadata": {},
   "outputs": [],
   "source": [
    "from sklearn.model_selection import GridSearchCV\n",
    "from sklearn.metrics import accuracy_score, precision_score, recall_score, f1_score\n",
    "\n",
    "def evaluate(model, X_test, y_test):\n",
    "    y_pred = model.predict(X_test)\n",
    "    return {\n",
    "        \"accuracy\": accuracy_score(y_test, y_pred),\n",
    "        \"precision\": precision_score(y_test, y_pred, zero_division=0),\n",
    "        \"recall\": recall_score(y_test, y_pred, zero_division=0),\n",
    "        \"f1\": f1_score(y_test, y_pred, zero_division=0)\n",
    "    }\n"
   ]
  },
  {
   "cell_type": "code",
   "execution_count": 55,
   "metadata": {},
   "outputs": [],
   "source": [
    "# range of hyperprameter exploration\n",
    "C_list = [0.1, 0.2, 0.3, 1, 5, 10, 20, 100, 200, 1000]\n",
    "degree_ls = [1, 2, 3, 4, 5]\n",
    "coef0_ls = [0.0001, 0.001, 0.002, 0.01, 0.02, 0.1, 0.2, 0.3, 1, 2, 5, 10]\n",
    "gamma_ls = [0.0001, 0.001, 0.002, 0.01, 0.02, 0.03, 0.1, 0.2, 1, 2, 3]\n",
    "\n",
    "results = []\n",
    "best_params_report = []\n"
   ]
  },
  {
   "cell_type": "code",
   "execution_count": 56,
   "metadata": {},
   "outputs": [
    {
     "name": "stdout",
     "output_type": "stream",
     "text": [
      "\n",
      "Best params per kernel (CV=5, scoring=F1):\n",
      "  - linear  | best_pramas={'C': 10, 'kernel': 'linear'} | cv_best_f1=0.8449\n",
      "  - poly    | best_pramas={'C': 0.1, 'coef0': 0.3, 'degree': 2, 'kernel': 'poly'} | cv_best_f1=0.8530\n",
      "  - rbf     | best_pramas={'C': 0.2, 'gamma': 0.2, 'kernel': 'rbf'} | cv_best_f1=0.8600\n",
      "  - sigmoid | best_pramas={'C': 200, 'coef0': 1, 'gamma': 0.03, 'kernel': 'sigmoid'} | cv_best_f1=0.8601\n"
     ]
    }
   ],
   "source": [
    "# Kernal functions: Linear, Polynomial, RBF, Sigmoid\n",
    "gs_linear = GridSearchCV(SVC(), {\"kernel\":[\"linear\"], \"C\":C_list}, scoring=\"f1\", cv=5, n_jobs=-1)\n",
    "gs_linear.fit(X_train, y_train)\n",
    "results.append({\"kernel\":\"linear\", **evaluate(gs_linear.best_estimator_, X_test, y_test)})\n",
    "best_params_report.append((\"linear\", gs_linear.best_params_, gs_linear.best_score_))\n",
    "\n",
    "gs_poly = GridSearchCV(SVC(), {\"kernel\":[\"poly\"], \"C\":C_list, \"degree\":degree_ls, \"coef0\":coef0_ls}, scoring=\"f1\", cv=5, n_jobs=-1)\n",
    "gs_poly.fit(X_train, y_train)\n",
    "results.append({\"kernel\":\"poly\", **evaluate(gs_poly.best_estimator_, X_test, y_test)})\n",
    "best_params_report.append((\"poly\", gs_poly.best_params_, gs_poly.best_score_))\n",
    "\n",
    "gs_rbf = GridSearchCV(SVC(), {\"kernel\":[\"rbf\"], \"C\":C_list, \"gamma\":gamma_ls}, scoring=\"f1\", cv=5, n_jobs=-1)\n",
    "gs_rbf.fit(X_train, y_train)\n",
    "results.append({\"kernel\":\"rbf\", **evaluate(gs_rbf.best_estimator_, X_test, y_test)})\n",
    "best_params_report.append((\"rbf\", gs_rbf.best_params_, gs_rbf.best_score_))\n",
    "\n",
    "gs_sig = GridSearchCV(SVC(), {\"kernel\":[\"sigmoid\"], \"C\":C_list, \"coef0\":coef0_ls, \"gamma\":gamma_ls}, scoring=\"f1\", cv=5, n_jobs=-1)\n",
    "gs_sig.fit(X_train, y_train)\n",
    "results.append({\"kernel\":\"sigmoid\", **evaluate(gs_sig.best_estimator_, X_test, y_test)})\n",
    "best_params_report.append((\"sigmoid\", gs_sig.best_params_, gs_sig.best_score_))\n",
    "\n",
    "\n",
    "print(\"\\nBest params per kernel (CV=5, scoring=F1):\")\n",
    "for name, params, cvf1 in best_params_report:\n",
    "    print(f\"  - {name:7s} | best_pramas={params} | cv_best_f1={cvf1:.4f}\")\n"
   ]
  },
  {
   "cell_type": "markdown",
   "metadata": {},
   "source": [
    "Both RBF and Sigmoid kernels achieved the highest F1-score (0.86) during cross-validation, slightly outperforming the Linear and Polynomial kernels. This indicates that nonlinear decision boundaries fit the data better than a purely linear model.\n",
    "The RBG kernel, with moderate values of C (0.2) and gamma (0.2), effectively balances bias and variance, capturing complex relationships without overfitting.\n",
    "The Sigmoid kernel performed comparably, but RBF is generally preferred because it is more stable and less sensitive to parameter scaling."
   ]
  }
 ],
 "metadata": {
  "kernelspec": {
   "display_name": "ncphd",
   "language": "python",
   "name": "python3"
  },
  "language_info": {
   "codemirror_mode": {
    "name": "ipython",
    "version": 3
   },
   "file_extension": ".py",
   "mimetype": "text/x-python",
   "name": "python",
   "nbconvert_exporter": "python",
   "pygments_lexer": "ipython3",
   "version": "3.12.7"
  }
 },
 "nbformat": 4,
 "nbformat_minor": 2
}
