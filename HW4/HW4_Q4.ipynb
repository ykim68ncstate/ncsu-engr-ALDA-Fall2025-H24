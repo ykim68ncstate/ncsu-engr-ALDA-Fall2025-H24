{
 "cells": [
  {
   "cell_type": "markdown",
   "metadata": {},
   "source": [
    "# (a) Please briefly describe how to construct your working environments in your report, and write how to execute your code in a ‘README.md’ file."
   ]
  },
  {
   "cell_type": "code",
   "execution_count": 3,
   "metadata": {},
   "outputs": [
    {
     "name": "stdout",
     "output_type": "stream",
     "text": [
      "CWD: /Users/kim-yujin/Desktop/ncsu-engr-ALDA-Fall2025-H24_HW1/HW4\n",
      "Wrote: /Users/kim-yujin/Desktop/ncsu-engr-ALDA-Fall2025-H24_HW1/HW4/README_Q4.md\n",
      "Bytes: 736\n",
      "Preview\n",
      "# ANN Binary Classification\n",
      "\n",
      "## (a) Environment Setup\n",
      "- **Language:** Python 3.12.7\n",
      "- **Libraries:**\n",
      " - TensorFlow 2.19.0\n",
      " - NumPy 2.3.2\n",
      " -Pandas 2.3.2\n",
      " - Matplotlib 3.10.6\n",
      "- **Backend:** TensorFlow 2.x (CPU or GPU)\n",
      "\n",
      "### Installation Example\n",
      "python -m venv .venv\n",
      "source .venv/bin/activate  # (Windows: .venv\\Scripts\\activate)\n",
      "pip install --upgrade pip\n",
      "pip install tensorflow pandas numpy matplotlib\n",
      "\n",
      "## How to Execute\n",
      "1) Put train.csv, val.csv, test.csv under ./data/\n",
      "2) Run the notebook cells in order.\n",
      "3) Check outputs: training logs, accuracy plot, validation summary, test accuracy.\n",
      "\n",
      "## Deterministic Settings\n",
      "Set the following before training:\n",
      "PYTHONHASHSEED=2025, TF_DETERMINISTIC_OPS=1, and seeds for random/numpy/tensorflow=2025\n",
      "----------\n"
     ]
    }
   ],
   "source": [
    "import sys, os, random, numpy, pandas, matplotlib, tensorflow as tf, textwrap\n",
    "\n",
    "# Collect versions from the current environment\n",
    "python_ver = sys.version.split()[0]\n",
    "tf_ver = tf.__version__\n",
    "np_ver = numpy.__version__\n",
    "pd_ver = pandas.__version__\n",
    "mpl_ver = matplotlib.__version__\n",
    "\n",
    "lines = [\n",
    "\"# ANN Binary Classification\",\n",
    "\"\",\n",
    "\"## (a) Environment Setup\",\n",
    "f\"- **Language:** Python {python_ver}\",\n",
    "\"- **Libraries:**\",\n",
    "f\" - TensorFlow {tf_ver}\",\n",
    "f\" - NumPy {np_ver}\",\n",
    "f\" -Pandas {pd_ver}\",\n",
    "f\" - Matplotlib {mpl_ver}\",\n",
    "\"- **Backend:** TensorFlow 2.x (CPU or GPU)\",\n",
    "\"\",\n",
    "\"### Installation Example\",\n",
    "\"python -m venv .venv\",\n",
    "\"source .venv/bin/activate  # (Windows: .venv\\\\Scripts\\\\activate)\",\n",
    "\"pip install --upgrade pip\",\n",
    "\"pip install tensorflow pandas numpy matplotlib\",\n",
    "\"\",\n",
    "\"## How to Execute\",\n",
    "\"1) Put train.csv, val.csv, test.csv under ./data/\",\n",
    "\"2) Run the notebook cells in order.\",\n",
    "\"3) Check outputs: training logs, accuracy plot, validation summary, test accuracy.\",\n",
    "\"\",\n",
    "\"## Deterministic Settings\",\n",
    "\"Set the following before training:\",\n",
    "\"PYTHONHASHSEED=2025, TF_DETERMINISTIC_OPS=1, and seeds for random/numpy/tensorflow=2025\"\n",
    "]\n",
    "\n",
    "path = \"README_Q4.md\"\n",
    "with open(path, \"w\", encoding=\"utf-8\") as f:\n",
    "    f.write(\"\\n\".join(lines))\n",
    "\n",
    "print(\"CWD:\", os.getcwd())\n",
    "print(\"Wrote:\", os.path.abspath(path))\n",
    "print(\"Bytes:\", os.path.getsize(path))\n",
    "print(\"Preview\")\n",
    "with open (path, \"r\", encoding=\"utf-8\") as f:\n",
    "    print(\"\\n\".join(f.read().splitlines()[:30]))\n",
    "print(\"----------\")"
   ]
  },
  {
   "cell_type": "markdown",
   "metadata": {},
   "source": [
    "# (b) Please apply a fixed random seed of 2025 in order to generate the same result every time."
   ]
  },
  {
   "cell_type": "code",
   "execution_count": 4,
   "metadata": {},
   "outputs": [
    {
     "name": "stdout",
     "output_type": "stream",
     "text": [
      "All random seed fixed to 2025\n"
     ]
    }
   ],
   "source": [
    "import numpy as np\n",
    "\n",
    "# Python has seed\n",
    "os.environ['PYTHONHASHSEED'] = '2025'\n",
    "\n",
    "# TensorFlow deterministic operation\n",
    "os.environ['TF_DETERMINISTIC_OPS'] = '1'\n",
    "\n",
    "# Define seed value\n",
    "SEED = 2025\n",
    "\n",
    "# Fix seed\n",
    "random.seed(SEED)\n",
    "np.random.seed(SEED)\n",
    "tf.random.set_seed(SEED)\n",
    "\n",
    "# Enable determinism in TensorFlow\n",
    "try:\n",
    "    tf.config.experimental.enable_op_determinism()\n",
    "except Exception:\n",
    "    pass\n",
    "\n",
    "print(\"All random seed fixed to\", SEED)"
   ]
  },
  {
   "cell_type": "markdown",
   "metadata": {},
   "source": [
    "# Data Load"
   ]
  },
  {
   "cell_type": "code",
   "execution_count": 5,
   "metadata": {},
   "outputs": [
    {
     "name": "stdout",
     "output_type": "stream",
     "text": [
      "Using data dir: HW4_data/ann_2025\n",
      "Train: (1000, 60) Val: (250, 60) Test: (250, 60)\n"
     ]
    }
   ],
   "source": [
    "import pandas as pd\n",
    "\n",
    "DATA_DIR = \"HW4_data/ann_2025\"\n",
    "print(\"Using data dir:\", DATA_DIR)\n",
    "\n",
    "LABEL = \"Class\"\n",
    "\n",
    "def load_csv_dataset(path_csv, label_col=LABEL):\n",
    "    df = pd.read_csv(path_csv)\n",
    "    assert label_col in df.columns, f\"'{label_col}' not ound in {path_csv}\"\n",
    "    y = df[label_col].to_numpy().astype('int64')\n",
    "    X = df.drop(columns=[label_col]).to_numpy().astype('float32')\n",
    "    return X, y, df\n",
    "\n",
    "X_train, y_train, df_train = load_csv_dataset(os.path.join(DATA_DIR, \"train_data_2025.csv\"))\n",
    "X_val,   y_val,   df_val   = load_csv_dataset(os.path.join(DATA_DIR, \"val_data_2025.csv\"))\n",
    "X_test,  y_test,  df_test  = load_csv_dataset(os.path.join(DATA_DIR, \"test_data_2025.csv\"))\n",
    "\n",
    "print(\"Train:\", X_train.shape, \"Val:\", X_val.shape, \"Test:\", X_test.shape)"
   ]
  },
  {
   "cell_type": "markdown",
   "metadata": {},
   "source": [
    "# (c) Create a body of code that iterates over a range of possible numbers of hidden neurons X = (4, 16, 32, 64, 128) that will be used to define a neural network. For each number of hidden neurons, x ∈ X, do the following:"
   ]
  },
  {
   "cell_type": "markdown",
   "metadata": {},
   "source": [
    "i. Define a neural network with its parameters as follows: activation function for hidden layer = ‘relu’, activation for output layer = ‘softmax’, loss function = ‘sparse categorical crossentropy’, optimizer = ‘adam’, metrics = ‘accuracy’, epochs=5, batch size=10. The model should have a single hidden layer, with the current number of hidden neurons in the loop, x, being assigned to define the size of the single hidden layer."
   ]
  },
  {
   "cell_type": "code",
   "execution_count": 6,
   "metadata": {},
   "outputs": [
    {
     "name": "stdout",
     "output_type": "stream",
     "text": [
      "build_model() function defined successfully.\n"
     ]
    }
   ],
   "source": [
    "from tensorflow.keras import Sequential\n",
    "from tensorflow.keras.layers import Dense, Input\n",
    "\n",
    "def build_model(n_features, hidden_units):\n",
    "    \"\"\"\n",
    "    Build a single-hidden-layer neural network model.\n",
    "    \n",
    "    Parameters:\n",
    "        n_features (int): Number of input features (columns in X).\n",
    "        hidden_units (int): Number of neurons in the hidden layer.\n",
    "        \n",
    "    Returns:\n",
    "        model (Sequential): Compiled Keras model ready for training.\n",
    "    \"\"\"\n",
    "    model = Sequential([\n",
    "        Input(shape=(n_features,)),             # input layer\n",
    "        Dense(hidden_units, activation='relu'), # hidden layer\n",
    "        Dense(2, activation='softmax')           # output layer\n",
    "    ])\n",
    "\n",
    "    # Compile the model\n",
    "    model.compile(\n",
    "        optimizer='adam',\n",
    "        loss='sparse_categorical_crossentropy',\n",
    "        metrics=['accuracy']\n",
    "    )\n",
    "    return model\n",
    "\n",
    "print(\"build_model() function defined successfully.\")"
   ]
  },
  {
   "cell_type": "code",
   "execution_count": 7,
   "metadata": {},
   "outputs": [
    {
     "data": {
      "text/html": [
       "<pre style=\"white-space:pre;overflow-x:auto;line-height:normal;font-family:Menlo,'DejaVu Sans Mono',consolas,'Courier New',monospace\"><span style=\"font-weight: bold\">Model: \"sequential\"</span>\n",
       "</pre>\n"
      ],
      "text/plain": [
       "\u001b[1mModel: \"sequential\"\u001b[0m\n"
      ]
     },
     "metadata": {},
     "output_type": "display_data"
    },
    {
     "data": {
      "text/html": [
       "<pre style=\"white-space:pre;overflow-x:auto;line-height:normal;font-family:Menlo,'DejaVu Sans Mono',consolas,'Courier New',monospace\">┏━━━━━━━━━━━━━━━━━━━━━━━━━━━━━━━━━┳━━━━━━━━━━━━━━━━━━━━━━━━┳━━━━━━━━━━━━━━━┓\n",
       "┃<span style=\"font-weight: bold\"> Layer (type)                    </span>┃<span style=\"font-weight: bold\"> Output Shape           </span>┃<span style=\"font-weight: bold\">       Param # </span>┃\n",
       "┡━━━━━━━━━━━━━━━━━━━━━━━━━━━━━━━━━╇━━━━━━━━━━━━━━━━━━━━━━━━╇━━━━━━━━━━━━━━━┩\n",
       "│ dense (<span style=\"color: #0087ff; text-decoration-color: #0087ff\">Dense</span>)                   │ (<span style=\"color: #00d7ff; text-decoration-color: #00d7ff\">None</span>, <span style=\"color: #00af00; text-decoration-color: #00af00\">16</span>)             │           <span style=\"color: #00af00; text-decoration-color: #00af00\">976</span> │\n",
       "├─────────────────────────────────┼────────────────────────┼───────────────┤\n",
       "│ dense_1 (<span style=\"color: #0087ff; text-decoration-color: #0087ff\">Dense</span>)                 │ (<span style=\"color: #00d7ff; text-decoration-color: #00d7ff\">None</span>, <span style=\"color: #00af00; text-decoration-color: #00af00\">2</span>)              │            <span style=\"color: #00af00; text-decoration-color: #00af00\">34</span> │\n",
       "└─────────────────────────────────┴────────────────────────┴───────────────┘\n",
       "</pre>\n"
      ],
      "text/plain": [
       "┏━━━━━━━━━━━━━━━━━━━━━━━━━━━━━━━━━┳━━━━━━━━━━━━━━━━━━━━━━━━┳━━━━━━━━━━━━━━━┓\n",
       "┃\u001b[1m \u001b[0m\u001b[1mLayer (type)                   \u001b[0m\u001b[1m \u001b[0m┃\u001b[1m \u001b[0m\u001b[1mOutput Shape          \u001b[0m\u001b[1m \u001b[0m┃\u001b[1m \u001b[0m\u001b[1m      Param #\u001b[0m\u001b[1m \u001b[0m┃\n",
       "┡━━━━━━━━━━━━━━━━━━━━━━━━━━━━━━━━━╇━━━━━━━━━━━━━━━━━━━━━━━━╇━━━━━━━━━━━━━━━┩\n",
       "│ dense (\u001b[38;5;33mDense\u001b[0m)                   │ (\u001b[38;5;45mNone\u001b[0m, \u001b[38;5;34m16\u001b[0m)             │           \u001b[38;5;34m976\u001b[0m │\n",
       "├─────────────────────────────────┼────────────────────────┼───────────────┤\n",
       "│ dense_1 (\u001b[38;5;33mDense\u001b[0m)                 │ (\u001b[38;5;45mNone\u001b[0m, \u001b[38;5;34m2\u001b[0m)              │            \u001b[38;5;34m34\u001b[0m │\n",
       "└─────────────────────────────────┴────────────────────────┴───────────────┘\n"
      ]
     },
     "metadata": {},
     "output_type": "display_data"
    },
    {
     "data": {
      "text/html": [
       "<pre style=\"white-space:pre;overflow-x:auto;line-height:normal;font-family:Menlo,'DejaVu Sans Mono',consolas,'Courier New',monospace\"><span style=\"font-weight: bold\"> Total params: </span><span style=\"color: #00af00; text-decoration-color: #00af00\">1,010</span> (3.95 KB)\n",
       "</pre>\n"
      ],
      "text/plain": [
       "\u001b[1m Total params: \u001b[0m\u001b[38;5;34m1,010\u001b[0m (3.95 KB)\n"
      ]
     },
     "metadata": {},
     "output_type": "display_data"
    },
    {
     "data": {
      "text/html": [
       "<pre style=\"white-space:pre;overflow-x:auto;line-height:normal;font-family:Menlo,'DejaVu Sans Mono',consolas,'Courier New',monospace\"><span style=\"font-weight: bold\"> Trainable params: </span><span style=\"color: #00af00; text-decoration-color: #00af00\">1,010</span> (3.95 KB)\n",
       "</pre>\n"
      ],
      "text/plain": [
       "\u001b[1m Trainable params: \u001b[0m\u001b[38;5;34m1,010\u001b[0m (3.95 KB)\n"
      ]
     },
     "metadata": {},
     "output_type": "display_data"
    },
    {
     "data": {
      "text/html": [
       "<pre style=\"white-space:pre;overflow-x:auto;line-height:normal;font-family:Menlo,'DejaVu Sans Mono',consolas,'Courier New',monospace\"><span style=\"font-weight: bold\"> Non-trainable params: </span><span style=\"color: #00af00; text-decoration-color: #00af00\">0</span> (0.00 B)\n",
       "</pre>\n"
      ],
      "text/plain": [
       "\u001b[1m Non-trainable params: \u001b[0m\u001b[38;5;34m0\u001b[0m (0.00 B)\n"
      ]
     },
     "metadata": {},
     "output_type": "display_data"
    }
   ],
   "source": [
    "# Run example\n",
    "n_features = X_train.shape[1]\n",
    "model = build_model(n_features, hidden_units=16)\n",
    "model.summary()"
   ]
  },
  {
   "cell_type": "markdown",
   "metadata": {},
   "source": [
    "ii. Fit the neural network with the provided training data (this is where you will need the epochs and batch size parameters provided in the previous step). Set shuffle=False in your .fit() call.\n",
    "\n",
    "iii. Validate the neural network that has a hidden layer of size x using the given validation data. The validation accuracy is used to determine how many numbers of hidden neurons are optimal for this problem. You will want to save this value for later use."
   ]
  },
  {
   "cell_type": "code",
   "execution_count": 8,
   "metadata": {},
   "outputs": [
    {
     "name": "stdout",
     "output_type": "stream",
     "text": [
      "[Info] Hidden=  4 | Train acc=0.8470 | Val acc=0.7960\n",
      "[Info] Hidden= 16 | Train acc=0.8830 | Val acc=0.8440\n",
      "[Info] Hidden= 32 | Train acc=0.8950 | Val acc=0.8200\n",
      "[Info] Hidden= 64 | Train acc=0.9070 | Val acc=0.8360\n",
      "[Info] Hidden=128 | Train acc=0.9170 | Val acc=0.8400\n",
      "\n",
      "Summary (last epoch acc):\n",
      "Hidden=  4 | Train=0.8470 | Val=0.7960\n",
      "Hidden= 16 | Train=0.8830 | Val=0.8440\n",
      "Hidden= 32 | Train=0.8950 | Val=0.8200\n",
      "Hidden= 64 | Train=0.9070 | Val=0.8360\n",
      "Hidden=128 | Train=0.9170 | Val=0.8400\n",
      "\n",
      "Selected best hidden size by validation accuracy: 16 (val_acc=0.8440)\n"
     ]
    }
   ],
   "source": [
    "# hyperparameters per the assignment\n",
    "H_LIST = [4, 16, 32, 64, 128]\n",
    "EPOCHS = 5\n",
    "BATCH_SIZE = 10\n",
    "\n",
    "# Containers for last epoch acc\n",
    "train_accs = []\n",
    "val_accs = []\n",
    "\n",
    "# Keep best by validation acc\n",
    "best_val = -np.inf\n",
    "best_h = None\n",
    "best_model = None\n",
    "\n",
    "n_features = X_train.shape[1]\n",
    "\n",
    "for h in H_LIST:\n",
    "    model = build_model(n_features, hidden_units=h)\n",
    "    history = model.fit(\n",
    "        X_train, y_train,\n",
    "        validation_data=(X_val, y_val),\n",
    "        epochs=EPOCHS,\n",
    "        batch_size=BATCH_SIZE,\n",
    "        shuffle=False,\n",
    "        verbose=0\n",
    "    )\n",
    "\n",
    "    # (c)-iii Validation step: use last epoch acc\n",
    "    train_acc = float(history.history['accuracy'][-1])\n",
    "    val_acc   = float(history.history['val_accuracy'][-1])\n",
    "    train_accs.append(train_acc)\n",
    "    val_accs.append(val_acc)\n",
    "\n",
    "    # Track the best model\n",
    "    if (val_acc > best_val) or (np.isclose(val_acc, best_val) and (best_h is None or h < best_h)):\n",
    "        best_val = val_acc\n",
    "        best_h = h\n",
    "        best_model = model\n",
    "\n",
    "    print(f\"[Info] Hidden={h:>3} | Train acc={train_acc:.4f} | Val acc={val_acc:.4f}\")\n",
    "\n",
    "print(\"\\nSummary (last epoch acc):\")\n",
    "for h, ta, va in zip(H_LIST, train_accs, val_accs):\n",
    "    print(f\"Hidden={h:>3} | Train={ta:.4f} | Val={va:.4f}\")\n",
    "\n",
    "print(f\"\\nSelected best hidden size by validation accuracy: {best_h} (val_acc={best_val:.4f})\")"
   ]
  },
  {
   "cell_type": "markdown",
   "metadata": {},
   "source": [
    "# (d) Plot a figure, where the horizontal x-axis is the number of hidden neurons, and the vertical y-axis is the accuracy. Please plot both training and validation accuracy in your figure."
   ]
  },
  {
   "cell_type": "code",
   "execution_count": 9,
   "metadata": {},
   "outputs": [
    {
     "data": {
      "image/png": "[encoded data removed]",
      "text/plain": [
       "<Figure size 640x480 with 1 Axes>"
      ]
     },
     "metadata": {},
     "output_type": "display_data"
    },
    {
     "name": "stdout",
     "output_type": "stream",
     "text": [
      "Saved figure to outputs/accuracy_plot.png\n"
     ]
    }
   ],
   "source": [
    "import matplotlib.pyplot as plt\n",
    "\n",
    "os.makedirs(\"outputs\", exist_ok=True)\n",
    "\n",
    "plt.figure()\n",
    "plt.plot(H_LIST, train_accs, marker='o', label='Train Accuracy')\n",
    "plt.plot(H_LIST, val_accs, marker='s', label='Validation Accuracy')\n",
    "plt.xlabel('Number of Hidden Neurons')\n",
    "plt.ylabel('Accuracy')\n",
    "plt.title('Training vs Validation Accuracy')\n",
    "plt.legend()\n",
    "plt.grid(True, linestyle='--', alpha=0.5)\n",
    "plt.savefig(\"outputs/accuracy_plot.png\", dpi=150, bbox_inches='tight')\n",
    "plt.show()\n",
    "\n",
    "print(\"Saved figure to outputs/accuracy_plot.png\")"
   ]
  },
  {
   "cell_type": "markdown",
   "metadata": {},
   "source": [
    "# (e) Provide a simple analysis of your results and choose the optimal number of hidden neurons from the analysis."
   ]
  },
  {
   "cell_type": "code",
   "execution_count": 10,
   "metadata": {},
   "outputs": [
    {
     "data": {
      "text/html": [
       "<div>\n",
       "<style scoped>\n",
       "    .dataframe tbody tr th:only-of-type {\n",
       "        vertical-align: middle;\n",
       "    }\n",
       "\n",
       "    .dataframe tbody tr th {\n",
       "        vertical-align: top;\n",
       "    }\n",
       "\n",
       "    .dataframe thead th {\n",
       "        text-align: right;\n",
       "    }\n",
       "</style>\n",
       "<table border=\"1\" class=\"dataframe\">\n",
       "  <thead>\n",
       "    <tr style=\"text-align: right;\">\n",
       "      <th></th>\n",
       "      <th>hidden</th>\n",
       "      <th>train_acc</th>\n",
       "      <th>val_acc</th>\n",
       "    </tr>\n",
       "  </thead>\n",
       "  <tbody>\n",
       "    <tr>\n",
       "      <th>0</th>\n",
       "      <td>4</td>\n",
       "      <td>0.847</td>\n",
       "      <td>0.796</td>\n",
       "    </tr>\n",
       "    <tr>\n",
       "      <th>1</th>\n",
       "      <td>16</td>\n",
       "      <td>0.883</td>\n",
       "      <td>0.844</td>\n",
       "    </tr>\n",
       "    <tr>\n",
       "      <th>2</th>\n",
       "      <td>32</td>\n",
       "      <td>0.895</td>\n",
       "      <td>0.820</td>\n",
       "    </tr>\n",
       "    <tr>\n",
       "      <th>3</th>\n",
       "      <td>64</td>\n",
       "      <td>0.907</td>\n",
       "      <td>0.836</td>\n",
       "    </tr>\n",
       "    <tr>\n",
       "      <th>4</th>\n",
       "      <td>128</td>\n",
       "      <td>0.917</td>\n",
       "      <td>0.840</td>\n",
       "    </tr>\n",
       "  </tbody>\n",
       "</table>\n",
       "</div>"
      ],
      "text/plain": [
       "   hidden  train_acc  val_acc\n",
       "0       4      0.847    0.796\n",
       "1      16      0.883    0.844\n",
       "2      32      0.895    0.820\n",
       "3      64      0.907    0.836\n",
       "4     128      0.917    0.840"
      ]
     },
     "execution_count": 10,
     "metadata": {},
     "output_type": "execute_result"
    }
   ],
   "source": [
    "df_results = pd.DataFrame({\n",
    "    \"hidden\": H_LIST,\n",
    "    \"train_acc\": [float(x) for x in train_accs],\n",
    "    \"val_acc\":   [float(x) for x in val_accs],\n",
    "})\n",
    "df_results.to_csv(\"outputs/results.csv\", index=False)\n",
    "df_results"
   ]
  },
  {
   "cell_type": "markdown",
   "metadata": {},
   "source": [
    "As shown in the figure and table, increasing the number of hidden neurons form 4 to 16 led to a clear improvement in both training and validation accuracy (Train:0.847 -> 0.883, Val: 0.796 -> 0.844).\n",
    "However, when the number of hidden neurons exceeded 16, the validation accuracy slightly decreased (e.g., 0.820-0.840) even though the training accuracy continued to incerase.\n",
    "This trend indicates that the model began to overfit the training data, learning patterns that do not generalize well to unseen data. therefore, the model with 16 hidden neurons provides the best balance between accuracy and generalization, achieving the highest validation accuracy (0.844)."
   ]
  },
  {
   "cell_type": "markdown",
   "metadata": {},
   "source": [
    "# (f) Report the test accuracy using the given test data on the neural network with the optimal number of hidden neurons."
   ]
  },
  {
   "cell_type": "code",
   "execution_count": 11,
   "metadata": {},
   "outputs": [
    {
     "name": "stdout",
     "output_type": "stream",
     "text": [
      "[Test] Accuracy (hidden=16): 0.8200 | loss=0.3911\n"
     ]
    },
    {
     "name": "stderr",
     "output_type": "stream",
     "text": [
      "2025-10-30 05:34:37.759804: E tensorflow/core/framework/node_def_util.cc:680] NodeDef mentions attribute use_unbounded_threadpool which is not in the op definition: Op<name=MapDataset; signature=input_dataset:variant, other_arguments: -> handle:variant; attr=f:func; attr=Targuments:list(type),min=0; attr=output_types:list(type),min=1; attr=output_shapes:list(shape),min=1; attr=use_inter_op_parallelism:bool,default=true; attr=preserve_cardinality:bool,default=false; attr=force_synchronous:bool,default=false; attr=metadata:string,default=\"\"> This may be expected if your graph generating binary is newer  than this binary. Unknown attributes will be ignored. NodeDef: {{node ParallelMapDatasetV2/_15}}\n",
      "2025-10-30 05:34:37.760351: E tensorflow/core/framework/node_def_util.cc:680] NodeDef mentions attribute use_unbounded_threadpool which is not in the op definition: Op<name=MapDataset; signature=input_dataset:variant, other_arguments: -> handle:variant; attr=f:func; attr=Targuments:list(type),min=0; attr=output_types:list(type),min=1; attr=output_shapes:list(shape),min=1; attr=use_inter_op_parallelism:bool,default=true; attr=preserve_cardinality:bool,default=false; attr=force_synchronous:bool,default=false; attr=metadata:string,default=\"\"> This may be expected if your graph generating binary is newer  than this binary. Unknown attributes will be ignored. NodeDef: {{node ParallelMapDatasetV2/_15}}\n"
     ]
    }
   ],
   "source": [
    "assert best_model is not None and best_h is not None, \"best_model/best_h not set. Re-run the training cell.\"\n",
    "\n",
    "test_loss, test_acc = best_model.evaluate(X_test, y_test, verbose=0)\n",
    "print(f\"[Test] Accuracy (hidden={best_h}): {test_acc:.4f} | loss={test_loss:.4f}\")"
   ]
  },
  {
   "cell_type": "markdown",
   "metadata": {},
   "source": [
    "I trained a single-hidden-layer ANN with hidden units in {4,16,32,64,128}. Using ReLU in the hidden layer and softmax in the output layer, we optimized with Adam and evaluated accuracy. Validation accuracy peaked at 16 units (0.844), so I selected 16 as the optimal size. The final test accuracy was 0.820 (loss=0.391), indicating good generalization."
   ]
  }
 ],
 "metadata": {
  "kernelspec": {
   "display_name": "ncphd",
   "language": "python",
   "name": "python3"
  },
  "language_info": {
   "codemirror_mode": {
    "name": "ipython",
    "version": 3
   },
   "file_extension": ".py",
   "mimetype": "text/x-python",
   "name": "python",
   "nbconvert_exporter": "python",
   "pygments_lexer": "ipython3",
   "version": "3.12.7"
  }
 },
 "nbformat": 4,
 "nbformat_minor": 2
}
