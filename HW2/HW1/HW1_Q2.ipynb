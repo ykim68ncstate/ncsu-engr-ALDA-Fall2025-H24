{
 "cells": [
  {
   "cell_type": "markdown",
   "metadata": {},
   "source": [
    "# 2. Write Python code to complete each of the tasks listed below."
   ]
  },
  {
   "cell_type": "code",
   "execution_count": 48,
   "metadata": {},
   "outputs": [],
   "source": [
    "import numpy as np"
   ]
  },
  {
   "cell_type": "markdown",
   "metadata": {},
   "source": [
    "(a) Generate a 4*4 matrix, A, consisting entirely of ones."
   ]
  },
  {
   "cell_type": "code",
   "execution_count": 49,
   "metadata": {},
   "outputs": [
    {
     "name": "stdout",
     "output_type": "stream",
     "text": [
      "(a) =  [[1. 1. 1. 1.]\n",
      " [1. 1. 1. 1.]\n",
      " [1. 1. 1. 1.]\n",
      " [1. 1. 1. 1.]]\n"
     ]
    }
   ],
   "source": [
    "A = np.ones((4,4), dtype=float)\n",
    "print(\"(a) = \", A)"
   ]
  },
  {
   "cell_type": "markdown",
   "metadata": {},
   "source": [
    "(b) Modify A so that all elements in its second column are replaced with the value 5."
   ]
  },
  {
   "cell_type": "code",
   "execution_count": 50,
   "metadata": {},
   "outputs": [
    {
     "name": "stdout",
     "output_type": "stream",
     "text": [
      "(b) =  [[1. 5. 1. 1.]\n",
      " [1. 5. 1. 1.]\n",
      " [1. 5. 1. 1.]\n",
      " [1. 5. 1. 1.]]\n"
     ]
    }
   ],
   "source": [
    "A[:, 1] = 5\n",
    "print(\"(b) = \", A)"
   ]
  },
  {
   "cell_type": "markdown",
   "metadata": {},
   "source": [
    "(c) Compute the sum of each row in A and store the results in a one-dimensional array s."
   ]
  },
  {
   "cell_type": "code",
   "execution_count": 51,
   "metadata": {},
   "outputs": [
    {
     "name": "stdout",
     "output_type": "stream",
     "text": [
      "(c) =  [8. 8. 8. 8.]\n"
     ]
    }
   ],
   "source": [
    "s = A.sum(axis=1)\n",
    "print(\"(c) = \", s)"
   ]
  },
  {
   "cell_type": "markdown",
   "metadata": {},
   "source": [
    "(d) Append s as the last column of A to make it a matrix with 5 columns."
   ]
  },
  {
   "cell_type": "code",
   "execution_count": 52,
   "metadata": {},
   "outputs": [
    {
     "name": "stdout",
     "output_type": "stream",
     "text": [
      "(d) =  [[1. 5. 1. 1. 8.]\n",
      " [1. 5. 1. 1. 8.]\n",
      " [1. 5. 1. 1. 8.]\n",
      " [1. 5. 1. 1. 8.]]\n"
     ]
    }
   ],
   "source": [
    "A = np.column_stack([A, s])\n",
    "print(\"(d) = \", A)"
   ]
  },
  {
   "cell_type": "markdown",
   "metadata": {},
   "source": [
    "(e) Transpose the updated matrix A (A = AT)"
   ]
  },
  {
   "cell_type": "code",
   "execution_count": 53,
   "metadata": {},
   "outputs": [
    {
     "name": "stdout",
     "output_type": "stream",
     "text": [
      "(e) A =  [[1. 1. 1. 1.]\n",
      " [5. 5. 5. 5.]\n",
      " [1. 1. 1. 1.]\n",
      " [1. 1. 1. 1.]\n",
      " [8. 8. 8. 8.]]\n"
     ]
    }
   ],
   "source": [
    "A = A.T\n",
    "print (\"(e) A = \", A)"
   ]
  },
  {
   "cell_type": "markdown",
   "metadata": {},
   "source": [
    "(f) Generate a matrix B such that \n",
    "1) its first row contains the standard deviation of each row of A, and \n",
    "2) the second row contains random numbers drawn uniformly from [0, 1]. Use np.random.seed(2025) for reproducibility."
   ]
  },
  {
   "cell_type": "code",
   "execution_count": 54,
   "metadata": {},
   "outputs": [
    {
     "name": "stdout",
     "output_type": "stream",
     "text": [
      "(f) B =  [[0.         0.         0.         0.         0.        ]\n",
      " [0.13548816 0.8878517  0.93260564 0.44556816 0.38823555]]\n"
     ]
    }
   ],
   "source": [
    "row_first = np.std(A, axis=1, ddof=0)\n",
    "np.random.seed(2025)\n",
    "row_second = np.random.uniform(0, 1, size=A.shape[0])\n",
    "B = np.vstack([row_first, row_second])\n",
    "print(\"(f) B = \", B)"
   ]
  },
  {
   "cell_type": "markdown",
   "metadata": {},
   "source": [
    "(g) Compute the matrix product: C = B*A"
   ]
  },
  {
   "cell_type": "code",
   "execution_count": 55,
   "metadata": {},
   "outputs": [
    {
     "name": "stdout",
     "output_type": "stream",
     "text": [
      "(g) C =  [[0.         0.         0.         0.        ]\n",
      " [9.05880485 9.05880485 9.05880485 9.05880485]]\n"
     ]
    }
   ],
   "source": [
    "C = B @ A\n",
    "print(\"(g) C = \", C)"
   ]
  },
  {
   "cell_type": "markdown",
   "metadata": {},
   "source": [
    "(h) Let X = [2,4,6,8].T, Y = [12, 9, 6, 3].T, Z = [5, 10, 15, 10].T.\n",
    "Compute the variance of each vector seperately, and then calculate the Pearson correlation coefficient between X and Y."
   ]
  },
  {
   "cell_type": "code",
   "execution_count": 56,
   "metadata": {},
   "outputs": [
    {
     "name": "stdout",
     "output_type": "stream",
     "text": [
      "(h) variance X =  5.0\n",
      "(h) variance Y =  11.25\n",
      "(h) variance Z =  12.5\n",
      "(h) Pearson correlation coefficient =  -1.0\n"
     ]
    }
   ],
   "source": [
    "X = np.array([2, 4, 6, 8], dtype = float)\n",
    "Y = np.array([12, 9, 6, 3], dtype = float)\n",
    "Z = np.array([5, 10, 15, 10], dtype = float)\n",
    "\n",
    "var_X = np.var(X, ddof = 0)\n",
    "var_Y = np.var(Y, ddof = 0)\n",
    "var_Z = np.var(Z, ddof = 0)\n",
    "\n",
    "Pearcorr_XY = np.corrcoef(X, Y)[0, 1]\n",
    "\n",
    "print(\"(h) variance X = \", var_X)\n",
    "print(\"(h) variance Y = \", var_Y)\n",
    "print(\"(h) variance Z = \", var_Z)\n",
    "print(\"(h) Pearson correlation coefficient = \", Pearcorr_XY)"
   ]
  },
  {
   "cell_type": "markdown",
   "metadata": {},
   "source": [
    "(i) Let x = [8, 15, 10, 12, 20, 18, 14].T.\n",
    "Verify the equation: x_bar_squa = (x_bar_squa + sigma_bar_squa(x)) for the two cases:\n",
    "i) sigma(x) is the popluation standard deviation.\n",
    "ii) sigam(x) is the sample standard deviation.\n",
    "In both cases, show detailed calculations and justify the results using Python "
   ]
  },
  {
   "cell_type": "code",
   "execution_count": 57,
   "metadata": {},
   "outputs": [
    {
     "name": "stdout",
     "output_type": "stream",
     "text": [
      "x_bar_squa =  207.57142857142858\n",
      "(i).  i) =  207.57142857142858\n",
      "(i). ii) =  210.16326530612247\n"
     ]
    }
   ],
   "source": [
    "x = np.array([8, 15, 10, 12, 20, 18, 14], dtype = float)\n",
    "\n",
    "x_bar = np.mean(x)\n",
    "x_bar_squa = np.mean(x**2)\n",
    "\n",
    "## i) popluation standard deviation ##\n",
    "var_pop = np.var(x, ddof = 0)\n",
    "result_pop = x_bar**2 + var_pop\n",
    "\n",
    "## ii) sample standard deviation ##\n",
    "var_sam = np.var(x, ddof = 1)\n",
    "result_sam = x_bar**2 + var_sam\n",
    "\n",
    "print(\"x_bar_squa = \", x_bar_squa)\n",
    "print(\"(i).  i) = \", result_pop)\n",
    "print(\"(i). ii) = \", result_sam)"
   ]
  },
  {
   "cell_type": "markdown",
   "metadata": {},
   "source": [
    "The equality holds when using the population variance, but not when using the sample variance."
   ]
  }
 ],
 "metadata": {
  "kernelspec": {
   "display_name": "ncphd",
   "language": "python",
   "name": "python3"
  },
  "language_info": {
   "codemirror_mode": {
    "name": "ipython",
    "version": 3
   },
   "file_extension": ".py",
   "mimetype": "text/x-python",
   "name": "python",
   "nbconvert_exporter": "python",
   "pygments_lexer": "ipython3",
   "version": "3.12.7"
  }
 },
 "nbformat": 4,
 "nbformat_minor": 2
}
